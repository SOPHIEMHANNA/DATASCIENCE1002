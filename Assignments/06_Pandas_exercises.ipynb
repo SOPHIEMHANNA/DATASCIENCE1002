{
  "cells": [
    {
      "cell_type": "markdown",
      "metadata": {
        "id": "view-in-github",
        "colab_type": "text"
      },
      "source": [
        "<a href=\"https://colab.research.google.com/github/SOPHIEMHANNA/DATASCIENCE1002/blob/main/Assignments/06_Pandas_exercises.ipynb\" target=\"_parent\"><img src=\"https://colab.research.google.com/assets/colab-badge.svg\" alt=\"Open In Colab\"/></a>"
      ]
    },
    {
      "cell_type": "markdown",
      "metadata": {
        "id": "L_nKffgWPs-1"
      },
      "source": [
        "## Pandas exercises 1\n",
        "\n",
        "1. Import dependencies"
      ]
    },
    {
      "cell_type": "code",
      "execution_count": 1,
      "metadata": {
        "id": "hASl6yoNPs-2"
      },
      "outputs": [],
      "source": [
        "import pandas as pd"
      ]
    },
    {
      "cell_type": "markdown",
      "metadata": {
        "id": "33KUt_fEPs-2"
      },
      "source": [
        "---"
      ]
    },
    {
      "cell_type": "code",
      "execution_count": null,
      "metadata": {
        "id": "ZZmr1aIoPs-3"
      },
      "outputs": [],
      "source": [
        "list = [98, 24, 46, 87, 33]"
      ]
    },
    {
      "cell_type": "markdown",
      "metadata": {
        "id": "jGSEPEqXPs-3"
      },
      "source": [
        "2. Convert `list` to a pandas series using `pd.Series`"
      ]
    },
    {
      "cell_type": "code",
      "execution_count": 2,
      "metadata": {
        "id": "nZ1y9HF6Ps-3",
        "outputId": "cc9577e4-9f5e-4ec6-ebc2-d1f4a3bfdc08",
        "colab": {
          "base_uri": "https://localhost:8080/"
        }
      },
      "outputs": [
        {
          "output_type": "stream",
          "name": "stdout",
          "text": [
            "0    98\n",
            "1    24\n",
            "2    46\n",
            "3    87\n",
            "4    33\n",
            "dtype: int64\n"
          ]
        }
      ],
      "source": [
        "my_list = [98, 24, 46, 87, 33]\n",
        "my_series = pd.Series(my_list)\n",
        "print(my_series)"
      ]
    },
    {
      "cell_type": "markdown",
      "metadata": {
        "id": "rORNi5YyPs-4"
      },
      "source": [
        "3. Take the above series and add an index that starts at 2 and steps by 3"
      ]
    },
    {
      "cell_type": "code",
      "execution_count": 4,
      "metadata": {
        "id": "YC8f3lAMPs-4",
        "outputId": "99c8f8b9-1aac-4e65-d6d2-c199f97d88b1",
        "colab": {
          "base_uri": "https://localhost:8080/"
        }
      },
      "outputs": [
        {
          "output_type": "stream",
          "name": "stdout",
          "text": [
            "2     98\n",
            "5     24\n",
            "8     46\n",
            "11    87\n",
            "14    33\n",
            "dtype: int64\n"
          ]
        }
      ],
      "source": [
        "my_list = [98, 24, 46, 87, 33]\n",
        "my_index = range(2, len(my_list) * 3 + 2, 3)\n",
        "my_series = pd.Series(my_list, index=my_index)\n",
        "print(my_series)"
      ]
    },
    {
      "cell_type": "markdown",
      "metadata": {
        "id": "2P199KkwPs-4"
      },
      "source": [
        "4. Create a dictionary of 4 names, ages, and careers   \n",
        "Convert this dictionary to a pandas dataframe: `df`.  \n",
        "Print the dataframe."
      ]
    },
    {
      "cell_type": "code",
      "execution_count": 5,
      "metadata": {
        "id": "lWoGNi5hPs-5",
        "outputId": "01688906-a898-4dc8-c820-e52e575df95f",
        "colab": {
          "base_uri": "https://localhost:8080/"
        }
      },
      "outputs": [
        {
          "output_type": "stream",
          "name": "stdout",
          "text": [
            "      Name  Age      Career\n",
            "0   Sophie   18      Doctor\n",
            "1      Mia   16     Teacher\n",
            "2  Michael   51  Journalist\n",
            "3    Mandy   50      Lawyer\n"
          ]
        }
      ],
      "source": [
        "data = {\n",
        "    'Name': ['Sophie', 'Mia', 'Michael', 'Mandy'],\n",
        "    'Age': [18, 16, 51, 50],\n",
        "    'Career': ['Doctor', 'Teacher', 'Journalist', 'Lawyer']\n",
        "}\n",
        "\n",
        "df = pd.DataFrame(data)\n",
        "print(df)\n"
      ]
    },
    {
      "cell_type": "markdown",
      "metadata": {
        "id": "TD-Ej1K_Ps-5"
      },
      "source": [
        "5. Name the index of `df` 'participant_id'.  \n",
        "Print `df`."
      ]
    },
    {
      "cell_type": "code",
      "execution_count": 6,
      "metadata": {
        "id": "_54NO6pRPs-5",
        "outputId": "913dd0b4-70e9-4dca-94de-d0e77e9c5405",
        "colab": {
          "base_uri": "https://localhost:8080/"
        }
      },
      "outputs": [
        {
          "output_type": "stream",
          "name": "stdout",
          "text": [
            "                   Name  Age      Career\n",
            "participant_id                          \n",
            "0                Sophie   18      Doctor\n",
            "1                   Mia   16     Teacher\n",
            "2               Michael   51  Journalist\n",
            "3                 Mandy   50      Lawyer\n"
          ]
        }
      ],
      "source": [
        "data = {\n",
        "    'Name': ['Sophie', 'Mia', 'Michael', 'Mandy'],\n",
        "    'Age': [18, 16, 51, 50],\n",
        "    'Career': ['Doctor', 'Teacher', 'Journalist', 'Lawyer']\n",
        "}\n",
        "\n",
        "df = pd.DataFrame(data)\n",
        "df.index.name = 'participant_id'\n",
        "print(df)"
      ]
    },
    {
      "cell_type": "markdown",
      "metadata": {
        "id": "-JXKN55IPs-5"
      },
      "source": [
        "6. Use a pandas function to determine the data types of the columns of `df`."
      ]
    },
    {
      "cell_type": "code",
      "execution_count": 10,
      "metadata": {
        "id": "pmbPdPYmPs-5",
        "outputId": "a48a3ce0-263b-4b22-860c-c8253facd9a0",
        "colab": {
          "base_uri": "https://localhost:8080/"
        }
      },
      "outputs": [
        {
          "output_type": "stream",
          "name": "stdout",
          "text": [
            "Name      object\n",
            "Age        int64\n",
            "Career    object\n",
            "dtype: object\n"
          ]
        }
      ],
      "source": [
        "data = {\n",
        "    'Name': ['Sophie', 'Mia', 'Michael', 'Mandy'],\n",
        "    'Age': [18, 16, 51, 50],\n",
        "    'Career': ['Doctor', 'Teacher', 'Journalist', 'Lawyer']\n",
        "}\n",
        "\n",
        "df = pd.DataFrame(data)\n",
        "df.index.name = 'participant_id'\n",
        "print(df.dtypes)"
      ]
    },
    {
      "cell_type": "markdown",
      "metadata": {
        "id": "67Yv1vrcPs-5"
      },
      "source": [
        "7. Using bracket notation, reference column `name`"
      ]
    },
    {
      "cell_type": "code",
      "execution_count": 11,
      "metadata": {
        "id": "KvYDyocgPs-6",
        "outputId": "c78a4b75-c342-471d-d392-af3534c19440",
        "colab": {
          "base_uri": "https://localhost:8080/"
        }
      },
      "outputs": [
        {
          "output_type": "stream",
          "name": "stdout",
          "text": [
            "participant_id\n",
            "0     Sophie\n",
            "1        Mia\n",
            "2    Michael\n",
            "3      Mandy\n",
            "Name: Name, dtype: object\n"
          ]
        }
      ],
      "source": [
        "data = {\n",
        "    'Name': ['Sophie', 'Mia', 'Michael', 'Mandy'],\n",
        "    'Age': [18, 16, 51, 50],\n",
        "    'Career': ['Doctor', 'Teacher', 'Journalist', 'Lawyer']\n",
        "}\n",
        "\n",
        "df = pd.DataFrame(data)\n",
        "df.index.name = 'participant_id'\n",
        "name_column = df['Name']\n",
        "print(name_column)"
      ]
    },
    {
      "cell_type": "markdown",
      "metadata": {
        "id": "m3cxo1_DPs-6"
      },
      "source": [
        "8. Using dot notation, reference column `name`"
      ]
    },
    {
      "cell_type": "code",
      "execution_count": 13,
      "metadata": {
        "id": "1GWDNZpDPs-6",
        "outputId": "2ddf4b21-51b7-460d-9b5f-eea16677dcc7",
        "colab": {
          "base_uri": "https://localhost:8080/"
        }
      },
      "outputs": [
        {
          "output_type": "stream",
          "name": "stdout",
          "text": [
            "participant_id\n",
            "0     Sophie\n",
            "1        Mia\n",
            "2    Michael\n",
            "3      Mandy\n",
            "Name: Name, dtype: object\n"
          ]
        }
      ],
      "source": [
        "data = {\n",
        "    'Name': ['Sophie', 'Mia', 'Michael', 'Mandy'],\n",
        "    'Age': [18, 16, 51, 50],\n",
        "    'Career': ['Doctor', 'Teacher', 'Journalist', 'Lawyer']\n",
        "}\n",
        "\n",
        "df = pd.DataFrame(data)\n",
        "df.index.name = 'participant_id'\n",
        "name_column = df.Name\n",
        "print(name_column)"
      ]
    },
    {
      "cell_type": "markdown",
      "metadata": {
        "id": "QXcydAo-Ps-6"
      },
      "source": [
        "8. Reference column `name` and have it returned in a dataframe."
      ]
    },
    {
      "cell_type": "code",
      "execution_count": 14,
      "metadata": {
        "id": "Es6jw5eKPs-6",
        "outputId": "553794f1-5253-4a30-aa80-775ccf19b1b0",
        "colab": {
          "base_uri": "https://localhost:8080/"
        }
      },
      "outputs": [
        {
          "output_type": "stream",
          "name": "stdout",
          "text": [
            "      Name\n",
            "0   Sophie\n",
            "1      Mia\n",
            "2  Michael\n",
            "3    Mandy\n"
          ]
        }
      ],
      "source": [
        "data = {\n",
        "    'Name': ['Sophie', 'Mia', 'Michael', 'Mandy'],\n",
        "    'Age': [18, 16, 51, 50],\n",
        "    'Career': ['Doctor', 'Teacher', 'Journalist', 'Lawyer']\n",
        "}\n",
        "\n",
        "df = pd.DataFrame(data)\n",
        "name_df = df[['Name']]\n",
        "print(name_df)"
      ]
    },
    {
      "cell_type": "markdown",
      "metadata": {
        "id": "FGvwXkmsPs-6"
      },
      "source": [
        "9. Show the 3rd element in column `career`."
      ]
    },
    {
      "cell_type": "code",
      "execution_count": 15,
      "metadata": {
        "id": "9DFRMXJ-Ps-6",
        "outputId": "5e9ad759-2bed-4f4d-f004-15c7b1067039",
        "colab": {
          "base_uri": "https://localhost:8080/"
        }
      },
      "outputs": [
        {
          "output_type": "stream",
          "name": "stdout",
          "text": [
            "Journalist\n"
          ]
        }
      ],
      "source": [
        "data = {\n",
        "    'Name': ['Sophie', 'Mia', 'Michael', 'Mandy'],\n",
        "    'Age': [18, 16, 51, 50],\n",
        "    'Career': ['Doctor', 'Teacher', 'Journalist', 'Lawyer']\n",
        "}\n",
        "\n",
        "df = pd.DataFrame(data)\n",
        "third_career = df['Career'].iloc[2]\n",
        "print(third_career)"
      ]
    },
    {
      "cell_type": "markdown",
      "source": [
        "10.  Load the `iris` dataset that we used in class.  Use `iris` as the name of your data frame."
      ],
      "metadata": {
        "id": "rRH599bKtjbE"
      }
    },
    {
      "cell_type": "code",
      "source": [
        "import seaborn as sns\n",
        "iris = sns.load_dataset('iris')\n",
        "print(iris.head())"
      ],
      "metadata": {
        "id": "zzf2X8hptu02",
        "outputId": "3f5fe7b1-41ec-40ab-ac62-5de2b19f9493",
        "colab": {
          "base_uri": "https://localhost:8080/"
        }
      },
      "execution_count": 16,
      "outputs": [
        {
          "output_type": "stream",
          "name": "stdout",
          "text": [
            "   sepal_length  sepal_width  petal_length  petal_width species\n",
            "0           5.1          3.5           1.4          0.2  setosa\n",
            "1           4.9          3.0           1.4          0.2  setosa\n",
            "2           4.7          3.2           1.3          0.2  setosa\n",
            "3           4.6          3.1           1.5          0.2  setosa\n",
            "4           5.0          3.6           1.4          0.2  setosa\n"
          ]
        }
      ]
    },
    {
      "cell_type": "markdown",
      "source": [
        "11.  What is the correlation between the variables `sepal_length` and `sepal_width` for all the irises?"
      ],
      "metadata": {
        "id": "AKz6-jVWtvSB"
      }
    },
    {
      "cell_type": "code",
      "source": [
        "iris = sns.load_dataset('iris')\n",
        "correlation = iris['sepal_length'].corr(iris['sepal_width'])\n",
        "print(\"Correlation between the variables sepal_length and sepal_width:\", correlation)"
      ],
      "metadata": {
        "id": "hee42cCiuUaQ",
        "outputId": "97f962a8-043c-483e-b7f2-07ed039b5e16",
        "colab": {
          "base_uri": "https://localhost:8080/"
        }
      },
      "execution_count": 18,
      "outputs": [
        {
          "output_type": "stream",
          "name": "stdout",
          "text": [
            "Correlation between the variables sepal_length and sepal_width: -0.11756978413300208\n"
          ]
        }
      ]
    },
    {
      "cell_type": "markdown",
      "source": [
        "12.  Which of the three species has the highest correlation between `sepal_length` and `sepal_width`?  Show any calculations you use to support your answer."
      ],
      "metadata": {
        "id": "0FftiYs-uU0S"
      }
    },
    {
      "cell_type": "code",
      "source": [
        "correlation_by_species = iris.groupby('species').apply(lambda x: x['sepal_length'].corr(x['sepal_width']))\n",
        "\n",
        "max_correlation_species = correlation_by_species.idxmax()\n",
        "max_correlation_value = correlation_by_species.max()\n",
        "\n",
        "print(\"Species with the highest correlation between sepal_length and sepal_width:\", max_correlation_species)\n",
        "print(\"Correlation value:\", max_correlation_value)"
      ],
      "metadata": {
        "id": "TFGICsBQulQ-",
        "outputId": "76284244-bad7-4c29-aee5-8b2163770add",
        "colab": {
          "base_uri": "https://localhost:8080/"
        }
      },
      "execution_count": 24,
      "outputs": [
        {
          "output_type": "stream",
          "name": "stdout",
          "text": [
            "Species with the highest correlation between sepal_length and sepal_width: setosa\n",
            "Correlation value: 0.7425466856651597\n"
          ]
        }
      ]
    },
    {
      "cell_type": "markdown",
      "source": [
        "13.  Among the four variables, the two that are most negatively correlated (overall) are `sepal_width` and `petal_length`.  (How do we know this?)  Determine the same thing but for each species separately:  for each species, which two variables have the most negative (or the least positive) correlation?  Again, include calculations to support your answer."
      ],
      "metadata": {
        "id": "ZEwy0920u1NY"
      }
    },
    {
      "cell_type": "code",
      "source": [
        "import seaborn as sns\n",
        "\n",
        "iris = sns.load_dataset('iris')\n",
        "\n",
        "overall_correlation = iris.corr().unstack().sort_values()\n",
        "\n",
        "min_correlation_overall = overall_correlation[overall_correlation != 1].head(1)\n",
        "\n",
        "print(\"Overall: Variables with the most negative correlation:\")\n",
        "print(min_correlation_overall)\n",
        "\n",
        "correlation_by_species = iris.groupby('species').apply(lambda x: x.corr().unstack().sort_values())\n",
        "\n",
        "min_correlation_by_species = correlation_by_species[correlation_by_species != 1].groupby(level=0).head(1)\n",
        "\n",
        "print(\"\\nFor each species: Variables with the most negative correlation:\")\n",
        "print(min_correlation_by_species)"
      ],
      "metadata": {
        "id": "bcqtPTtHvjLI",
        "outputId": "a40d5bb9-b440-499e-d071-a72d944783ce",
        "colab": {
          "base_uri": "https://localhost:8080/"
        }
      },
      "execution_count": 28,
      "outputs": [
        {
          "output_type": "stream",
          "name": "stdout",
          "text": [
            "Overall: Variables with the most negative correlation:\n",
            "sepal_width  petal_length   -0.42844\n",
            "dtype: float64\n",
            "\n",
            "For each species: Variables with the most negative correlation:\n",
            "species                               \n",
            "setosa      sepal_width   petal_length    0.177700\n",
            "versicolor  sepal_length  sepal_width     0.525911\n",
            "virginica   sepal_length  petal_width     0.281108\n",
            "dtype: float64\n"
          ]
        },
        {
          "output_type": "stream",
          "name": "stderr",
          "text": [
            "<ipython-input-28-bd310a480758>:5: FutureWarning: The default value of numeric_only in DataFrame.corr is deprecated. In a future version, it will default to False. Select only valid columns or specify the value of numeric_only to silence this warning.\n",
            "  overall_correlation = iris.corr().unstack().sort_values()\n",
            "<ipython-input-28-bd310a480758>:12: FutureWarning: The default value of numeric_only in DataFrame.corr is deprecated. In a future version, it will default to False. Select only valid columns or specify the value of numeric_only to silence this warning.\n",
            "  correlation_by_species = iris.groupby('species').apply(lambda x: x.corr().unstack().sort_values())\n"
          ]
        }
      ]
    },
    {
      "cell_type": "markdown",
      "source": [
        "14.  Once again, the variables `sepal_width` and `petal_length` are negatively correlated.  But for each individual species, these two variables are positively correlated.  How is this possible?  Explain this phenomenon.  Use a data visualization if it helps.\n"
      ],
      "metadata": {
        "id": "cK_OhSaRvxhE"
      }
    },
    {
      "cell_type": "code",
      "source": [
        "import matplotlib.pyplot as plt\n",
        "\n",
        "sns.scatterplot(data=iris, x='sepal_width', y='petal_length', hue='species')\n",
        "plt.title('Relationship between Sepal Width and Petal Length by Species')\n",
        "plt.xlabel('Sepal Width')\n",
        "plt.ylabel('Petal Length')\n",
        "plt.show()"
      ],
      "metadata": {
        "id": "H4_QQDWHwJ3t",
        "outputId": "b0409c28-458d-4bcb-e075-b632ce5920b1",
        "colab": {
          "base_uri": "https://localhost:8080/",
          "height": 472
        }
      },
      "execution_count": 31,
      "outputs": [
        {
          "output_type": "display_data",
          "data": {
            "text/plain": [
              "<Figure size 640x480 with 1 Axes>"
            ],
            "image/png": "[encoded data removed]"
          },
          "metadata": {}
        }
      ]
    },
    {
      "cell_type": "markdown",
      "source": [
        "This phenomenon occurs when the correlation between two variables change either direction or strength when the data changes based on a third variable. For example. If you were to mix all 3 flowers together, the outcome would be wider petals are asociated with shorter petals. But then looking at the flowers seperatly, wider petals are actuall associated with longer petals. When you end up mixing each flower, with it's own characteristics, it can change the overall big picture."
      ],
      "metadata": {
        "id": "gAM8bhkMPyPK"
      }
    }
  ],
  "metadata": {
    "kernelspec": {
      "display_name": "Python 3.8.9 64-bit",
      "language": "python",
      "name": "python3"
    },
    "language_info": {
      "codemirror_mode": {
        "name": "ipython",
        "version": 3
      },
      "file_extension": ".py",
      "mimetype": "text/x-python",
      "name": "python",
      "nbconvert_exporter": "python",
      "pygments_lexer": "ipython3",
      "version": "3.8.9"
    },
    "orig_nbformat": 4,
    "vscode": {
      "interpreter": {
        "hash": "31f2aee4e71d21fbe5cf8b01ff0e069b9275f58929596ceb00d14d90e3e16cd6"
      }
    },
    "colab": {
      "provenance": [],
      "include_colab_link": true
    }
  },
  "nbformat": 4,
  "nbformat_minor": 0
}