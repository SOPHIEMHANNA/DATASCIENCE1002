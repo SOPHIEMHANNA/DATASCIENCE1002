{
  "nbformat": 4,
  "nbformat_minor": 0,
  "metadata": {
    "colab": {
      "provenance": [],
      "authorship_tag": "ABX9TyPrFZ9tTg1eVahi1cBh/wfL",
      "include_colab_link": true
    },
    "kernelspec": {
      "name": "python3",
      "display_name": "Python 3"
    },
    "language_info": {
      "name": "python"
    }
  },
  "cells": [
    {
      "cell_type": "markdown",
      "metadata": {
        "id": "view-in-github",
        "colab_type": "text"
      },
      "source": [
        "<a href=\"https://colab.research.google.com/github/SOPHIEMHANNA/DATASCIENCE1002/blob/main/Guessing_Game.ipynb\" target=\"_parent\"><img src=\"https://colab.research.google.com/assets/colab-badge.svg\" alt=\"Open In Colab\"/></a>"
      ]
    },
    {
      "cell_type": "code",
      "execution_count": 4,
      "metadata": {
        "colab": {
          "base_uri": "https://localhost:8080/"
        },
        "id": "zFylmNUjCtUG",
        "outputId": "4e642e3e-affa-488f-8877-49a57fe1fad9"
      },
      "outputs": [
        {
          "output_type": "stream",
          "name": "stdout",
          "text": [
            "I've selected a number between 0 and 100. Try to guess what it is!\n",
            "Enter your guess: 1000\n",
            "Your guess must be between 0 and 100. Please try again.\n",
            "Enter your guess: fifty\n",
            "Your answer needs to be an integer between 0 and 100. Please try again.\n",
            "Enter your guess: 50\n",
            "Congratulations! You guessed the correct number. It took you 1 guesses\n"
          ]
        }
      ],
      "source": [
        "\n",
        "import random\n",
        "random_number = random.randint(0,100)\n",
        "print(\"I've selected a number between 0 and 100. Try to guess what it is!\")\n",
        "num_guesses = 0\n",
        "while True :\n",
        "  guess = input(\"Enter your guess: \")\n",
        "  if not guess.isdigit():\n",
        "    print(\"Your answer needs to be an integer between 0 and 100. Please try again.\")\n",
        "    continue\n",
        "  guess = int(guess)\n",
        "  if guess > 100 or guess < 0:\n",
        "    print(\"Your guess must be between 0 and 100. Please try again.\")\n",
        "    continue\n",
        "  num_guesses +=1\n",
        "  if guess == random_number:\n",
        "    print(\"Congratulations! You guessed the correct number. It took you\", num_guesses, \"guesses\")\n",
        "    break\n",
        "  elif guess < random_number:\n",
        "    print(\"That number is too low! Guess higher.\")\n",
        "  else:\n",
        "    print(\"That number is too high! Guess lower.\")\n"
      ]
    }
  ]
}