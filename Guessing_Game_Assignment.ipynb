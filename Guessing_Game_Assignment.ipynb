{
  "nbformat": 4,
  "nbformat_minor": 0,
  "metadata": {
    "colab": {
      "provenance": [],
      "authorship_tag": "ABX9TyOvbWsdiKaoDcoXdcK+Xd5b",
      "include_colab_link": true
    },
    "kernelspec": {
      "name": "python3",
      "display_name": "Python 3"
    },
    "language_info": {
      "name": "python"
    }
  },
  "cells": [
    {
      "cell_type": "markdown",
      "metadata": {
        "id": "view-in-github",
        "colab_type": "text"
      },
      "source": [
        "<a href=\"https://colab.research.google.com/github/SOPHIEMHANNA/DATASCIENCE1002/blob/main/Guessing_Game_Assignment.ipynb\" target=\"_parent\"><img src=\"https://colab.research.google.com/assets/colab-badge.svg\" alt=\"Open In Colab\"/></a>"
      ]
    },
    {
      "cell_type": "code",
      "execution_count": 17,
      "metadata": {
        "colab": {
          "base_uri": "https://localhost:8080/"
        },
        "id": "G4_WoNDO9cY5",
        "outputId": "91928efd-f907-4465-f0fa-5fb10c8cd9b3"
      },
      "outputs": [
        {
          "output_type": "stream",
          "name": "stdout",
          "text": [
            "I've selected a number between 0 and 100. Try to guess what it is!\n",
            "Enter your guess: 1000\n",
            "Your guess must be a number between 0 and 100. Try again.\n",
            "Enter your guess: seventy\n",
            "Please enter an integer between 0 and 100.\n",
            "Enter your guess: 50\n",
            "That number is too low! Guess higher.\n",
            "Enter your guess: 60\n",
            "That number is too high! Guess lower.\n",
            "Enter your guess: 55\n",
            "You guessed the correct number! It took you 3 guesses.\n"
          ]
        }
      ],
      "source": [
        "#it took me about 30 minutes to complete this assignment\n",
        "\n",
        "import random\n",
        "\n",
        "random_number = random.randint(0, 100)\n",
        "\n",
        "print(\"I've selected a number between 0 and 100. Try to guess what it is!\")\n",
        "num_guesses = 0\n",
        "while True:\n",
        "    guess = input(\"Enter your guess: \")\n",
        "    if not guess.isdigit():\n",
        "        print(\"Please enter an integer between 0 and 100.\")\n",
        "        continue\n",
        "    guess = int(guess)\n",
        "    if guess > 100 or guess < 0:\n",
        "        print(\"Your guess must be a number between 0 and 100. Try again.\")\n",
        "        continue\n",
        "    num_guesses += 1\n",
        "    if guess == random_number:\n",
        "        print(\"You guessed the correct number! It took you\", num_guesses, \"guesses.\")\n",
        "        break\n",
        "    elif guess < random_number:\n",
        "        print(\"That number is too low! Guess higher.\")\n",
        "    else:\n",
        "        print(\"That number is too high! Guess lower.\")"
      ]
    },
    {
      "cell_type": "code",
      "source": [],
      "metadata": {
        "id": "gTs1kiit906v"
      },
      "execution_count": 1,
      "outputs": []
    }
  ]
}